{
 "cells": [
  {
   "cell_type": "markdown",
   "metadata": {},
   "source": [
    "### EE 416\n",
    "Nahum Tilahun |\n",
    "Homework 2 |\n",
    "Student ID: 1620183\n"
   ]
  },
  {
   "cell_type": "code",
   "execution_count": 17,
   "metadata": {},
   "outputs": [],
   "source": [
    "#import cell\n",
    "import numpy as np\n",
    "import os\n",
    "os.sys.path\n",
    "import cv2\n",
    "from skimage import color\n",
    "import matplotlib.pyplot as plt \n",
    "import math"
   ]
  },
  {
   "cell_type": "code",
   "execution_count": 28,
   "metadata": {},
   "outputs": [
    {
     "data": {
      "image/png": "[encoded data removed]",
      "text/plain": [
       "<Figure size 432x288 with 1 Axes>"
      ]
     },
     "metadata": {
      "needs_background": "light"
     },
     "output_type": "display_data"
    },
    {
     "name": "stdout",
     "output_type": "stream",
     "text": [
      "0.512908935546875\n"
     ]
    },
    {
     "data": {
      "image/png": "[encoded data removed]",
      "text/plain": [
       "<Figure size 432x288 with 1 Axes>"
      ]
     },
     "metadata": {
      "needs_background": "light"
     },
     "output_type": "display_data"
    },
    {
     "data": {
      "image/png": "[encoded data removed]",
      "text/plain": [
       "<Figure size 432x288 with 1 Axes>"
      ]
     },
     "metadata": {
      "needs_background": "light"
     },
     "output_type": "display_data"
    },
    {
     "name": "stdout",
     "output_type": "stream",
     "text": [
      "0.7353217055855957\n",
      "0.26467829441440427\n"
     ]
    }
   ],
   "source": [
    "#3.10\n",
    "#i\n",
    "#a\n",
    "P = np.zeros(50)\n",
    "for k in range(1, 50, 1):\n",
    "    P[k] = (0.875) ** (k - 1) * 0.125\n",
    "    \n",
    "plt.stem(P)\n",
    "plt.show()\n",
    "\n",
    "#b\n",
    "b = 0\n",
    "for x in range(6):\n",
    "    b += P[x]\n",
    "    \n",
    "p5 = 1 - b    \n",
    "print(p5)\n",
    "\n",
    "#ii\n",
    "#a\n",
    "P2 = np.ones(8)/8\n",
    "plt.stem(P2)\n",
    "plt.show()\n",
    "\n",
    "#b\n",
    "#The probablity it is greater than 5 is 0.25\n",
    "\n",
    "\n",
    "\n",
    "#iii\n",
    "#a\n",
    "a= 2\n",
    "poisson = np.zeros(30)\n",
    "for k in range(0, 30, 1):               \n",
    "    poisson[k] = (a/(math.factorial(k))) * math.exp(-a)\n",
    "\n",
    "plt.stem(poisson)\n",
    "plt.show()\n",
    "\n",
    "#c \n",
    "total = 0\n",
    "poisson2 = np.zeros(6)\n",
    "for k in range(0, 6, 1):               \n",
    "    poisson2[k] = (b/(math.factorial(k))) * math.exp(-b)\n",
    "    total += poisson[k]\n",
    "\n",
    "print(total)\n",
    "prob = 1 - total\n",
    "print(prob)"
   ]
  },
  {
   "cell_type": "code",
   "execution_count": null,
   "metadata": {},
   "outputs": [],
   "source": []
  },
  {
   "cell_type": "code",
   "execution_count": null,
   "metadata": {},
   "outputs": [],
   "source": [
    "zx"
   ]
  }
 ],
 "metadata": {
  "kernelspec": {
   "display_name": "Python 3",
   "language": "python",
   "name": "python3"
  },
  "language_info": {
   "codemirror_mode": {
    "name": "ipython",
    "version": 3
   },
   "file_extension": ".py",
   "mimetype": "text/x-python",
   "name": "python",
   "nbconvert_exporter": "python",
   "pygments_lexer": "ipython3",
   "version": "3.7.0"
  }
 },
 "nbformat": 4,
 "nbformat_minor": 2
}
